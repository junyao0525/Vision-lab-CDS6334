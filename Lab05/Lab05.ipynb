{
 "cells": [
  {
   "cell_type": "markdown",
   "metadata": {
    "id": "ID1Aev-GoTeM"
   },
   "source": [
    "# Lab05 - Color\n",
    "### CDS6334 Visual Information Processing\n"
   ]
  },
  {
   "cell_type": "markdown",
   "metadata": {
    "id": "2uBqvm9PoTeQ"
   },
   "source": [
    "This lab will guide you how color images can be handled, processed and converted between various colorspaces. "
   ]
  },
  {
   "cell_type": "code",
   "execution_count": null,
   "metadata": {
    "id": "DXSWTGSAoTeR"
   },
   "outputs": [],
   "source": [
    "import cv2\n",
    "import numpy as np\n",
    "from matplotlib import pyplot as plt"
   ]
  },
  {
   "cell_type": "markdown",
   "metadata": {
    "id": "2Yden7tioTeS"
   },
   "source": [
    "## Processing Color Images"
   ]
  },
  {
   "cell_type": "markdown",
   "metadata": {
    "id": "eBuPios8oTeS"
   },
   "source": [
    "Let's read our favourite flower picture: `redflower.jpg`. \n"
   ]
  },
  {
   "cell_type": "code",
   "execution_count": null,
   "metadata": {
    "id": "hUYKIl1UoTeT"
   },
   "outputs": [],
   "source": [
    "img = cv2.imread('redflower.jpg') \n",
    "\n",
    "# show image using OpenCV. 'imshow' automatically converts BGR format to RGB internally!\n",
    "cv2.imshow('Red flower',img)\n",
    "cv2.waitKey(0)\n",
    "cv2.destroyAllWindows()    # You need to close the window for this block of code to finish execution"
   ]
  },
  {
   "cell_type": "markdown",
   "metadata": {
    "id": "GXXQ_aSqoTeT"
   },
   "source": [
    "Reminder: <br>\n",
    "OpenCV's `imshow` opens into new windows and automatically converts BGR format to RGB internally. <br>\n",
    "Show image using matplotlib's `imshow` allows inline display in the notebook but also requires image to be in RGB format. So conversion is necessary."
   ]
  },
  {
   "cell_type": "code",
   "execution_count": null,
   "metadata": {
    "id": "xS9oM4xXoTeU"
   },
   "outputs": [],
   "source": [
    "imgRGB = cv2.cvtColor(img, cv2.COLOR_BGR2RGB)\n",
    "plt.imshow(imgRGB), plt.xticks([]), plt.yticks([])\n",
    "plt.show()"
   ]
  },
  {
   "cell_type": "markdown",
   "metadata": {
    "id": "vRgYBqL-oTeV"
   },
   "source": [
    "Let's attempt to show the 3 channel slices (Red, Green, Blue) separately. However, recall that OpenCV natively reads a colour image in the order of Blue, Green then Red (BGR). So, the first slice contains the Blue channel, second slice the Green channel, and the third slice the Red channel."
   ]
  },
  {
   "cell_type": "code",
   "execution_count": null,
   "metadata": {
    "id": "D9OCTNzooTeW"
   },
   "outputs": [],
   "source": [
    "# accessing each slice (in the 3rd dimension) of the color image array\n",
    "B = img[:,:,0]\n",
    "G = img[:,:,1]\n",
    "R = img[:,:,2]\n",
    "\n",
    "# horizontal stacking of the 3 images\n",
    "allthree = np.hstack((R,G,B))\n",
    "\n",
    "plt.figure(figsize=(10,10))\n",
    "plt.imshow(allthree,cmap='gray', vmin=0,vmax=255)\n",
    "plt.xticks([]), plt.yticks([])\n",
    "plt.title('R - G - B channels')\n",
    "plt.show()"
   ]
  },
  {
   "cell_type": "markdown",
   "metadata": {
    "id": "efIoOh1doTeW"
   },
   "source": [
    "Observe how the red channel slice has a high intensity value (whitish) at the flower areas.\n"
   ]
  },
  {
   "cell_type": "markdown",
   "metadata": {
    "id": "7TKuf07qoTeX"
   },
   "source": [
    "### Converting to other colorspaces"
   ]
  },
  {
   "cell_type": "markdown",
   "metadata": {
    "id": "jFczl7TEoTeX"
   },
   "source": [
    "Let's convert to the HSV colorspace."
   ]
  },
  {
   "cell_type": "code",
   "execution_count": null,
   "metadata": {
    "id": "ovI-wYZ_oTeX"
   },
   "outputs": [],
   "source": [
    "# Convert BGR to HSV (no need go to RGB first)\n",
    "hsv = cv2.cvtColor(img, cv2.COLOR_BGR2HSV)\n",
    "\n",
    "plt.figure(figsize=(5,5))\n",
    "plt.imshow(hsv)\n",
    "plt.xticks([]), plt.yticks([])\n",
    "plt.title('HSV image')\n",
    "plt.show()"
   ]
  },
  {
   "cell_type": "markdown",
   "metadata": {
    "id": "uD1QcHduoTeY"
   },
   "source": [
    "The \"HSV\" image does not really show anything meaningful enough for us to understand more..."
   ]
  },
  {
   "cell_type": "code",
   "execution_count": null,
   "metadata": {
    "id": "felkZ32xoTeY"
   },
   "outputs": [],
   "source": [
    "H = hsv[:,:,0]\n",
    "S = hsv[:,:,1]\n",
    "V = hsv[:,:,2]\n",
    "HSVallthree = np.hstack((hsv[:,:,0],hsv[:,:,1],hsv[:,:,2]))\n",
    "\n",
    "# interestingly, the range of values for H is [0, 179] for 8-bit images. This is fixed by OpenCV for HSV\n",
    "print(np.max(H), np.min(H))\n",
    "\n",
    "plt.figure(figsize=(10,10))\n",
    "plt.imshow(HSVallthree,cmap='gray')\n",
    "plt.xticks([]), plt.yticks([])\n",
    "plt.title('H - S - V channels')\n",
    "plt.show()"
   ]
  },
  {
   "cell_type": "markdown",
   "metadata": {
    "id": "G9FHBjvxoTeZ"
   },
   "source": [
    "Matplotlib's `imshow` function, allows us to colour the values according to a certain colormap. A `hsv` colormap is available, which is based on a cyclic red-yellow-green-cyan-blue-magenta-red. This should show us where the hues are in the picture. \n",
    "\n",
    "**Note**: The Saturation (S) at the flower petal region is quite high, indicating that the red colours there are very pure and close to a full red. The Value (V) channel is very close to a grayscale version of the original color image."
   ]
  },
  {
   "cell_type": "code",
   "execution_count": null,
   "metadata": {
    "id": "bPwHZduqoTea"
   },
   "outputs": [],
   "source": [
    "ax = plt.imshow(H, cmap='hsv')\n",
    "cax = plt.colorbar(ax, ticks=[0,179])\n",
    "plt.show();"
   ]
  },
  {
   "cell_type": "markdown",
   "metadata": {
    "id": "aE7AMPPWoTea"
   },
   "source": [
    "**Note**: The coloring here shows all hues at the highest saturation level (hence, the colours are very vibrant and pure). Only by including the Saturation channel together, we will get closer to the original colours of the image."
   ]
  },
  {
   "cell_type": "markdown",
   "metadata": {
    "id": "C6oV5_pQoTeb"
   },
   "source": [
    "**Q1**: Experiment with other colorspaces like **YCbCr** (attach the conversion flag `CV_BGR2YCrCb`), **CIE XYZ** (attach the conversion flag `CV_BGR2XYZ`) and **CIE LAB** (attach the conversion flag `CV_BGR2Lab`). Note down your observations.\n",
    "\n",
    "For more information, check out the documentation for [`cv2.cvtColor()`](http://docs.opencv.org/3.0-beta/modules/imgproc/doc/miscellaneous_transformations.html#cvtcolor)."
   ]
  },
  {
   "cell_type": "code",
   "execution_count": null,
   "metadata": {
    "id": "syGJZBKXoTeb"
   },
   "outputs": [],
   "source": [
    "#enter code here\n",
    "\n",
    "#Steps:\n",
    "#convert image to the different color spaces\n",
    "#show the image in color and also the individual channels (in gray cmap) side-by-side\n",
    "#inspect the minimum and maximum values of each channel \n",
    "#(print as title when showing image)\n"
   ]
  },
  {
   "cell_type": "markdown",
   "metadata": {
    "id": "EKo3a9BcoTeb"
   },
   "source": [
    "### Detecting Color Objects\n",
    "\n",
    "Now that we know how to get the hues from HSV, we can use this to extract colored objects from an image. In the following steps, we will try to extract the oranges from the apples.\n",
    "\n",
    "First, we need to define a range for the colour that we intend to detect in HSV.\n"
   ]
  },
  {
   "cell_type": "code",
   "execution_count": null,
   "metadata": {
    "id": "BEBKI5I9oTec"
   },
   "outputs": [],
   "source": [
    "aao = cv2.imread('apples_oranges.jpg')\n",
    "aao_hsv = cv2.cvtColor(aao, cv2.COLOR_BGR2HSV)\n",
    "\n",
    "%matplotlib widget\n",
    "# import matplotlib # uncomment if there is bug with matplotlib notebook mode\n",
    "\n",
    "plt.imshow(aao_hsv, cmap='hsv')\n",
    "plt.show();"
   ]
  },
  {
   "cell_type": "markdown",
   "metadata": {
    "id": "XKII6EKEoTec"
   },
   "source": [
    "With the interative plot enabled, use it to discover a suitable range for the orange colour in HSV coordinate. Note that the Hue value must be scaled to a value between 0 and 179."
   ]
  },
  {
   "cell_type": "code",
   "execution_count": null,
   "metadata": {
    "id": "WWg3rfo8oTec"
   },
   "outputs": [],
   "source": [
    "# turn interactive plot off\n",
    "%matplotlib inline\n",
    "\n",
    "# define range of orange color in HSV\n",
    "lower_orange = np.array([5,225,175])\n",
    "upper_orange = np.array([15,255,255])"
   ]
  },
  {
   "cell_type": "markdown",
   "metadata": {
    "id": "yXZx69VQoTec"
   },
   "source": [
    "Next, threshold the HSV image using the orange color range specified earlier. <br>\n",
    "We will be using the [`cv2.inRange`](https://docs.opencv.org/3.4/d2/de8/group__core__array.html#ga48af0ab51e36436c5d04340e036ce981) function that can defined a lower and upper threshold."
   ]
  },
  {
   "cell_type": "code",
   "execution_count": null,
   "metadata": {
    "id": "ulBi9zY4oTec"
   },
   "outputs": [],
   "source": [
    "# Threshold the HSV image to get only orange colors\n",
    "mask = cv2.inRange(aao_hsv, lower_orange, upper_orange)"
   ]
  },
  {
   "cell_type": "markdown",
   "metadata": {
    "id": "xr99f-sioTed"
   },
   "source": [
    "Do a bitwise-AND on the mask and original image. This acts to superimpose the detected colour onto the original image."
   ]
  },
  {
   "cell_type": "code",
   "execution_count": null,
   "metadata": {
    "id": "3_Xa6NYGoTed"
   },
   "outputs": [],
   "source": [
    "# Bitwise-AND mask and original image\n",
    "res = cv2.bitwise_and(aao, aao, mask=mask)\n",
    "\n",
    "cv2.imshow('Detected oranges',res)\n",
    "cv2.waitKey(0)\n",
    "cv2.destroyAllWindows()"
   ]
  },
  {
   "cell_type": "markdown",
   "metadata": {
    "id": "AnZL32dUoTed"
   },
   "source": [
    "Not satisfied with it? <br>\n",
    "\n",
    "**Hints:**\n",
    "- Try to find appropriate threshold boundaries for each channel (H, S, V).\n",
    "- You may use histograms to analyse manually, or you can also use an *automatic threshold finding method* (both to be covered later)."
   ]
  },
  {
   "cell_type": "markdown",
   "metadata": {
    "id": "089IaCTWoTed"
   },
   "source": [
    "## Color Histograms\n",
    "\n",
    "The histograms for each of the color channels is a straightforward way of representing the distribution of color intensity values. Two images that are quite similar in **content** (e.g. two pictures of panda bears) are likely to have the same distribution of colour intensities. This can potentially be useful for performing matching between images, and further to that, for image search/retrieval task.\n",
    "\n"
   ]
  },
  {
   "cell_type": "code",
   "execution_count": null,
   "metadata": {
    "id": "db89k1ZloTed"
   },
   "outputs": [],
   "source": [
    "redflower = cv2.imread('redflower.jpg')\n",
    "rf = cv2.cvtColor(redflower, cv2.COLOR_BGR2RGB)\n",
    "r, g, b = rf[:,:,0], rf[:,:,1], rf[:,:,2]\n",
    "\n",
    "plt.figure(figsize=(7,6))\n",
    "plt.subplot(311)                             #plot in the first cell\n",
    "plt.subplots_adjust(hspace=.5)\n",
    "plt.title(\"Red\")\n",
    "plt.hist(np.ndarray.flatten(r), bins=128)\n",
    "plt.subplot(312)                             #plot in the second cell\n",
    "plt.title(\"Green\")\n",
    "plt.hist(np.ndarray.flatten(g), bins=128)\n",
    "plt.subplot(313)                             #plot in the third cell\n",
    "plt.title(\"Blue\")\n",
    "plt.hist(np.ndarray.flatten(b), bins=128)\n",
    "plt.show()"
   ]
  },
  {
   "cell_type": "markdown",
   "metadata": {
    "id": "27_xf0OUoTee"
   },
   "source": [
    "Note that we are showing the histogram using only 128 bins (which means, every two values occupy one bin drawn). You can increase this value for finer bins or decrease this value for coarser bins.\n",
    "\n",
    "**Q2**: For ease of future use, write a general function to display the histogram of all three channels, in the similar way to that shown above:"
   ]
  },
  {
   "cell_type": "code",
   "execution_count": null,
   "metadata": {
    "id": "8fxjS7lNoTee"
   },
   "outputs": [],
   "source": [
    "def allChannelHist(img, bins=128):\n",
    "    # add your code\n",
    "    \n",
    "    #Steps\n",
    "    #convert color channels\n",
    "    #define a figure and setup the plotting space\n",
    "    #create a for loop to go through channels/select subplot\n",
    "    #in the selected subplot, plot histogram of specified bins\n",
    "    #add name to identify which plot for which channel \n",
    "    \n",
    "#Test function:    \n",
    "redflower = cv2.imread('redflower.jpg')\n",
    "allChannelHist(redflower, 16)"
   ]
  },
  {
   "cell_type": "markdown",
   "metadata": {
    "id": "GBDN97Q4oTee"
   },
   "source": [
    "To form a single colour histogram, concatenate all three histograms into a single array. For that, use `numpy.histogram` to get the individual histograms of each channel before concatenation. After concatenating, use the `bar` function to show the histogram as a bar plot."
   ]
  },
  {
   "cell_type": "code",
   "execution_count": null,
   "metadata": {
    "id": "WQYGL0HxoTee",
    "scrolled": true
   },
   "outputs": [],
   "source": [
    "r_hist, r_bin = np.histogram(r, 128)\n",
    "g_hist, g_bin = np.histogram(g, 128)\n",
    "b_hist, b_bin = np.histogram(b, 128)\n",
    "rgb_hist = np.concatenate((r_hist, g_hist, b_hist))\n",
    "pos = np.arange(384)\n",
    "plt.bar(pos, rgb_hist), plt.title('RGB Color histogram')\n",
    "plt.show()"
   ]
  },
  {
   "cell_type": "markdown",
   "metadata": {
    "id": "mrPVpuInoTef"
   },
   "source": [
    "An important step to ensure the histogram is independent from image size/number of pixels, is to normalize each individual channel histogram (so that the values within each histogram sums to 1), before concatenating them together. The histogram will \"look\" the same though."
   ]
  },
  {
   "cell_type": "code",
   "execution_count": null,
   "metadata": {
    "id": "sfRYgEFWoTef"
   },
   "outputs": [],
   "source": [
    "r_hist, r_bin = np.histogram(r, 128, density=True)\n",
    "g_hist, g_bin = np.histogram(g, 128, density=True)\n",
    "b_hist, b_bin = np.histogram(b, 128, density=True)\n",
    "rgb_hist = np.concatenate((r_hist, g_hist, b_hist))\n",
    "pos = np.arange(384)\n",
    "plt.bar(pos, rgb_hist), plt.title('RGB Color histogram (normalized)')\n",
    "plt.show()"
   ]
  },
  {
   "cell_type": "markdown",
   "metadata": {
    "id": "dfwlpkzuoTef"
   },
   "source": [
    "**Q3**: Transfer the code that is to be used to create the colour histogram into a useful function called `colorHistogram()`, which performs the necessary colorspace conversion, histogramming of channels, and concatenation. The function should take in an image, the colorspace and bin size (3 inputs), and return the colour histogram as output. "
   ]
  },
  {
   "cell_type": "code",
   "execution_count": null,
   "metadata": {
    "id": "i7WCUOiYoTef"
   },
   "outputs": [],
   "source": [
    "def colorHistogram(img, cspace='RGB', binsize=128):\n",
    "   # Add you code here\n",
    "    \n",
    "    #Steps:\n",
    "    #create a dictionary for cspace selection\n",
    "    #convert image to color space specified\n",
    "    #create a for loop to go through channels\n",
    "    #generate histogram of channel\n",
    "    #concatenate the histograms to form one histogram\n",
    "    #optional: plot the histogram using bar plot\n",
    "    #return the final histogram in float32 datatype\n",
    "    \n",
    "rf_hist = colorHistogram(img)"
   ]
  },
  {
   "cell_type": "markdown",
   "metadata": {
    "id": "XedL06kVoTeg"
   },
   "source": [
    "With the function done, it's now easy to convert any image to a color histogram (based on the colorspace desired). Let's use it on other images now."
   ]
  },
  {
   "cell_type": "code",
   "execution_count": null,
   "metadata": {
    "id": "Tgpx0cRgoTeg"
   },
   "outputs": [],
   "source": [
    "mg = cv2.imread('morning_glory.jpg')\n",
    "ant = cv2.imread('anthurium.jpg')\n",
    "yf = cv2.imread('yellowflower.jpg')\n",
    "\n",
    "mg_hist = colorHistogram(mg)\n",
    "ant_hist = colorHistogram(ant)\n",
    "yf_hist = colorHistogram(yf)"
   ]
  },
  {
   "cell_type": "markdown",
   "metadata": {
    "id": "T3RP0cSpoTeg"
   },
   "source": [
    "#### Matching images\n",
    "\n",
    "The concept of \"matching\" images is as simple as finding out how far an image is from another image. However, if we were to use raw pixels to compare, it is unlikely we are able to make any meaningful measurements, especially when they are taken from different angles.\n",
    "<table >\n",
    "    <tr><td><img src=\"redflower.jpg\" style=\"width:150px\"></td>\n",
    "    <td><img src=\"anthurium.jpg\" style=\"width:150px\"></td></tr>\n",
    "     <tr><td>redflower.jpg</td><td>anthurium.jpg</td><td></tr>\n",
    "     <tr><td><img src=\"morning_glory.jpg\" style=\"width:150px\"></td>\n",
    "    <td><img src=\"yellowflower.jpg\" style=\"width:150px\"></td></tr>\n",
    "    <tr><td>morning_glory.jpg</td><td>yellowflower.jpg</td></tr>\n",
    "</table>\n",
    "\n",
    "Using their colour histograms is *probably* better, since we can see that their composition of colours involve some red areas, and other areas that are greenish and dark.\n",
    "\n",
    "The simplest way is to use an Euclidean distance (straight line distance between two points of dimension $D$). When $D=2$, this is how it is:<br>\n",
    "<img src=\"distance.png\" style=\"width:300px\"> <br>\n",
    "Likewise, if we are using the colour histograms, think of $D=384$. There are $128$ bins $\\times \\hspace{0.2em} 3$ channels of numbers, representing each image. \n",
    "\n",
    "There's a nice set of distance functions from `scipy.spatial` that we can use straight out of the box (no need for us to implement!). Let's verify if the distance calculated is correct using a simple example of two 1-D arrays."
   ]
  },
  {
   "cell_type": "code",
   "execution_count": null,
   "metadata": {
    "id": "KXNLM6YxoTeg"
   },
   "outputs": [],
   "source": [
    "from scipy.spatial import distance\n",
    "a = [1,2,3]\n",
    "b = [4,5,6]\n",
    "d = distance.euclidean(a,b)\n",
    "print(d)"
   ]
  },
  {
   "cell_type": "markdown",
   "metadata": {
    "id": "10J5z9VooTeg"
   },
   "source": [
    "Now, let's compare the distance between the `redflower` and the other 3 flower images..."
   ]
  },
  {
   "cell_type": "code",
   "execution_count": null,
   "metadata": {
    "id": "xMAxYZO3oTeg"
   },
   "outputs": [],
   "source": [
    "dist1 = distance.euclidean(rf_hist, ant_hist)\n",
    "dist2 = distance.euclidean(rf_hist, mg_hist)\n",
    "dist3 = distance.euclidean(rf_hist, yf_hist)\n",
    "\n",
    "print((dist1, dist2, dist3))\n"
   ]
  },
  {
   "cell_type": "markdown",
   "metadata": {
    "id": "kkWJgPzVoTeg"
   },
   "source": [
    "The distances show that the `morning_glory` is the nearest to the `redflower` while the `yellowflower` is the furthest. We were expecting the `anthurium` to be the closest to the `redflower` but turns out, that didn't work out. \n",
    "\n",
    "**Q4**: Re-run this experiment using HSV color histogram, just the Hue channel histogram alone. See if the distance measurements make more sense."
   ]
  },
  {
   "cell_type": "code",
   "execution_count": null,
   "metadata": {
    "id": "3L4Y9ExnoTeh"
   },
   "outputs": [],
   "source": [
    "# enter code here\n",
    "\n",
    "#Steps:\n",
    "#generate the HSV color histograms using the function\n",
    "#use only the \"first portion\" of the output histogram\n",
    "#calculate euclidean distance\n",
    "#which is the shortest distance?\n"
   ]
  },
  {
   "cell_type": "markdown",
   "metadata": {
    "id": "h7HQevgnoTeh"
   },
   "source": [
    "### Trying Pillow & scikit-image packages\n",
    "\n",
    "Our practicals will be mostly focused on the OpenCV library. Feel free to try out some hands-on tutorial on the other two libraries: [Pillow](https://pillow.readthedocs.io/en/latest/handbook/tutorial.html) and [`scikit-image`](http://www.scipy-lectures.org/packages/scikit-image/index.html#introduction-and-concepts).\n",
    "\n",
    "Most of these basic operations covered in this module are available on all three libraries. Perhaps the comprehensiveness of the OpenCV library would be most telling in the advanced topics."
   ]
  },
  {
   "cell_type": "markdown",
   "metadata": {
    "id": "Lt193mWvoTeh"
   },
   "source": [
    "## Additional Exercises\n"
   ]
  },
  {
   "cell_type": "markdown",
   "metadata": {
    "id": "Mc7p81HzoTeh"
   },
   "source": [
    "**Q1**. **Histogram intersection** is another distance measure which is popularly used to match image features that are in the form of histograms. It is given in formula as:\n",
    "$$\\mathcal D(H(\\mathbf{X}),H(\\mathbf{Y}))=\\sum_j^n \\min(H(\\mathbf{X_j}), H(\\mathbf{Y_j}))\\qquad \\text{with } n \\text{ bins}$$\n",
    "Write a function `histogram_intersection` to implement this. Test it out on the color histograms generated earlier in this lab exercise.\n",
    "\n"
   ]
  },
  {
   "cell_type": "code",
   "execution_count": null,
   "metadata": {
    "id": "fz5OcVWxoTeh"
   },
   "outputs": [],
   "source": [
    "# Enter code here\n",
    "\n",
    "#Steps:\n",
    "#function takes in two input histograms, and outputs a distance value\n",
    "#input histograms must have the same number of bins\n",
    "#for loop to go through ever bin\n",
    "#for each bin position, compare the bins of both histograms\n",
    "#store the bin with smaller value\n",
    "#sum all stored bin values\n",
    "#return sum as distance measure"
   ]
  },
  {
   "cell_type": "markdown",
   "metadata": {
    "id": "5N8mXlx2oTei"
   },
   "source": [
    "**Q2**: **Segmentation by Color** Perform segmentation on the given image to extract all the cars. Create masks using color information of different groups of cars. If necessary, different color spaces and other techniques from previous classes can be applied as well to improve the segmentation results. <br>\n",
    "![Colored Cars](colored_cars.png)"
   ]
  },
  {
   "cell_type": "code",
   "execution_count": null,
   "metadata": {
    "id": "vVIBVg1doTei"
   },
   "outputs": [],
   "source": [
    "# Enter code here\n"
   ]
  },
  {
   "cell_type": "markdown",
   "metadata": {
    "id": "_1ApenJXoTeh"
   },
   "source": [
    "**Q3**: **Pop-Art** is an art movement that emerged in the mid-1950s in Britain and the late 1950s in the United States. One of the most widely known style of pop art is one created by Andy Warhol, which uses a small palette of distinct hues (they can be often bright and highly saturated, or moody and tinted in certain settings). Here's the original photo of Marilyn Monroe, and the famous pop-art version created by Andy Warhol:<br>\n",
    "![Original Marilyn Monroe](marilyn.png)![Pop Art Marilyn Monroe](popart_marilyn.png)\n",
    "\n",
    "<br>Give a shot at generating cool pop art images of real-life people and objects!\n",
    "\n",
    "Hint: Here's a typical five-color pop art palette:<br>\n",
    "![Pop-art Kiss Palette](popart_palette.png) <br>\n",
    "These colors are given by these values: (240, 24, 72), (192, 78, 168), (144, 192, 144), (240, 216, 120), (240, 192, 0)\n",
    "Try to assign values from different grayscale ranges to these different colours.<br><br>\n",
    "Try out these tasks:\n",
    "1. Use the artist version to create masks and assign new colors for your own pop-art on the original image.\n",
    "2. Assign values from different grayscale ranges in the original image to the different given colours."
   ]
  },
  {
   "cell_type": "code",
   "execution_count": null,
   "metadata": {
    "id": "06d24NgpoTei"
   },
   "outputs": [],
   "source": [
    "#enter code here\n"
   ]
  }
 ],
 "metadata": {
  "anaconda-cloud": {},
  "colab": {
   "collapsed_sections": [],
   "provenance": []
  },
  "kernelspec": {
   "display_name": "Python 3 (ipykernel)",
   "language": "python",
   "name": "python3"
  },
  "language_info": {
   "codemirror_mode": {
    "name": "ipython",
    "version": 3
   },
   "file_extension": ".py",
   "mimetype": "text/x-python",
   "name": "python",
   "nbconvert_exporter": "python",
   "pygments_lexer": "ipython3",
   "version": "3.12.7"
  }
 },
 "nbformat": 4,
 "nbformat_minor": 4
}
