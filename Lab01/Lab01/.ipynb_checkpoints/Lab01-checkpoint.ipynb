{
 "cells": [
  {
   "cell_type": "markdown",
   "metadata": {
    "id": "Kkk0P3IB0KVi"
   },
   "source": [
    "# Lab01 - Getting Started\n",
    "### CDS6334 Visual Information Processing\n"
   ]
  },
  {
   "cell_type": "markdown",
   "metadata": {
    "id": "l83uj4ni0KVr"
   },
   "source": [
    "### Have you gone through Lab 00?\n",
    "\n",
    "Lab 00 serves as a quick refresher to Python language (at least sufficient for you to code when you get into the main topics of this course). If you have not done it, please make sure you go through it during your Self-Learning Time. \n",
    "\n",
    "### This lab\n",
    "\n",
    "**CDS6334 Visual Information Processing** labs are primarily guided and self-paced, while it also contains some questions that you are require to complete and additional exercises (usually at the end). The instructor will not provide any solutions, so as to encourage you to discuss this with other students.\n",
    "\n",
    "This lab introduces some basic input/output mechanisms for handling images, and some fundamental image processing operations such as arithmetic operations, and image blending. This lab is primarily guided (in many portions) while it also contains sections that you are require to complete. "
   ]
  },
  {
   "cell_type": "markdown",
   "metadata": {
    "id": "9lfm9uwf0KVt"
   },
   "source": [
    "## Image Libraries for Python"
   ]
  },
  {
   "cell_type": "markdown",
   "metadata": {
    "id": "1-E2wFUp0KVu"
   },
   "source": [
    "Among the more popularly used libraries for processing images and videos in the Python environment are: \n",
    "* [**OpenCV**](https://docs.opencv.org/trunk/index.html) \n",
    "* [**Pillow**](https://pillow.readthedocs.io/en/latest/index.html) (previously known as **Python Imaging Library (PIL)**).\n",
    "* [**scikit-image**](http://scikit-image.org/docs/stable/), which is the image processing library of SciPy.\n",
    "\n",
    "We will be mainly using the OpenCV library in most practical modules (as it is the richer of the two in terms of functionalities for image processing and computer vision), although some exposure to PIL is also helpful and might come in handy at times. OpenCV itself has slightly different functionality sets for C++ and Python languages, with the C++ library being the more complete of the two. The scikit-image is not as widely used but it contains some useful implementations. \n",
    "\n",
    "OpenCV also comes with a very comprehensive bunch of Python tutorials which you can find [here](https://docs.opencv.org/trunk/d6/d00/tutorial_py_root.html). Due to some syntax differences between the C++ and Python versions, you can use the function `help(function-name)` and the C++ OpenCV reference to cross-check the usages."
   ]
  },
  {
   "cell_type": "markdown",
   "metadata": {
    "id": "OJPHrBLM0KVv"
   },
   "source": [
    "### Before starting\n",
    "#### [For those using own PC/laptops]"
   ]
  },
  {
   "cell_type": "markdown",
   "metadata": {
    "id": "z5b_73gs0KVv"
   },
   "source": [
    "First, ensure that you have got the latest OpenCV version (4.10.0) installed for Python. There are many ways (and many packaged versions) that can get you OpenCV installed. \n",
    "\n",
    "#### OpenCV\n",
    "Following the instructions provided, type at terminal/prompt: \n",
    "\n",
    "`pip install opencv-python`. \n",
    "\n",
    "If you have an existing OpenCV packages installed and you wish to upgrade it. You can type at terminal/prompt: \n",
    "\n",
    "`pip install --upgrade opencv-python`\n",
    "\n",
    "Some dependencies might be updated along the process.   \n",
    "\n",
    "#### Pillow & scikit-image\n",
    "Both Pillow and scikit-image packages come together with Anaconda. However, their existing versions may be slightly outdated. You can update them together using conda:\n",
    "\n",
    "`conda update pillow scikit-image`\n",
    "\n",
    "Some dependencies might be updated along the process.   \n",
    "\n",
    "After getting these packages installed, let's check if they have been properly installed"
   ]
  },
  {
   "cell_type": "code",
   "execution_count": 1,
   "metadata": {
    "id": "VS3XiDh50KVx"
   },
   "outputs": [
    {
     "data": {
      "text/plain": [
       "'4.10.0'"
      ]
     },
     "execution_count": 1,
     "metadata": {},
     "output_type": "execute_result"
    }
   ],
   "source": [
    "import cv2\n",
    "cv2.__version__"
   ]
  },
  {
   "cell_type": "code",
   "execution_count": 2,
   "metadata": {
    "id": "OEgtaV730KVz"
   },
   "outputs": [
    {
     "data": {
      "text/plain": [
       "'10.4.0'"
      ]
     },
     "execution_count": 2,
     "metadata": {},
     "output_type": "execute_result"
    }
   ],
   "source": [
    "from PIL import Image \n",
    "Image.__version__"
   ]
  },
  {
   "cell_type": "code",
   "execution_count": 3,
   "metadata": {
    "id": "-uVtr1G00KV1"
   },
   "outputs": [
    {
     "data": {
      "text/plain": [
       "'0.24.0'"
      ]
     },
     "execution_count": 3,
     "metadata": {},
     "output_type": "execute_result"
    }
   ],
   "source": [
    "import skimage\n",
    "skimage.__version__"
   ]
  },
  {
   "cell_type": "markdown",
   "metadata": {
    "id": "Ho-S1q7L0KV2"
   },
   "source": [
    "Also, make sure some of the other supporting libraries are also available in your Python environment:"
   ]
  },
  {
   "cell_type": "code",
   "execution_count": 4,
   "metadata": {
    "id": "MC7MjfWB0KV3"
   },
   "outputs": [],
   "source": [
    "import numpy as np\n",
    "import matplotlib.pyplot as plt"
   ]
  },
  {
   "cell_type": "markdown",
   "metadata": {
    "id": "pfuqP5Q00KV4"
   },
   "source": [
    "If all is good, let's get started with some image reading and writing."
   ]
  },
  {
   "cell_type": "markdown",
   "metadata": {
    "id": "rPswqVkw0KV4"
   },
   "source": [
    "## Image Reading, Displaying, Writing\n",
    "\n",
    "The first steps to have an image loaded to the memory of your computer is to read it from an image file. Doing it on Python is as simple as a one-liner. Of course, there are other sophisticated ways of reading an image from a URL or through the network, but we will not be covering those techniques."
   ]
  },
  {
   "cell_type": "code",
   "execution_count": 5,
   "metadata": {
    "id": "8IDOlaRX0KV5"
   },
   "outputs": [],
   "source": [
    "img = cv2.imread('opencv-logo.png')                              # IMREAD always reads an RGB image in B-G-R order (reversed)\n",
    "img_gray = cv2.imread('opencv-logo.png',cv2.IMREAD_GRAYSCALE)    # read image directly as grayscale\n",
    "\n",
    "img_gray = cv2.imread('opencv-logo.png',0)"
   ]
  },
  {
   "cell_type": "markdown",
   "metadata": {
    "id": "N3Uvv2xU0KV5"
   },
   "source": [
    "Note: OpenCV uses the \"BGR\" arrangement instead of more conventional understanding of \"RGB\". (For the long story, you can read [here](https://www.learnopencv.com/why-does-opencv-use-bgr-color-format/) why is it so).\n",
    "\n",
    "We can then verify if the two images are correctly read by checking its dimension from the variable list,"
   ]
  },
  {
   "cell_type": "code",
   "execution_count": 6,
   "metadata": {
    "id": "2-jBHd8c0KV6"
   },
   "outputs": [
    {
     "name": "stdout",
     "output_type": "stream",
     "text": [
      "Variable   Type        Data/Info\n",
      "--------------------------------\n",
      "Image      module      <module 'PIL.Image' from <...>packages\\\\PIL\\\\Image.py'>\n",
      "cv2        module      <module 'cv2' from 'c:\\\\U<...>cv2.cp312-win_amd64.pyd'>\n",
      "img        NoneType    None\n",
      "img_gray   NoneType    None\n",
      "np         module      <module 'numpy' from 'c:\\<...>ges\\\\numpy\\\\__init__.py'>\n",
      "plt        module      <module 'matplotlib.pyplo<...>\\\\matplotlib\\\\pyplot.py'>\n",
      "skimage    module      <module 'skimage' from 'c<...>s\\\\skimage\\\\__init__.py'>\n"
     ]
    }
   ],
   "source": [
    "whos"
   ]
  },
  {
   "cell_type": "markdown",
   "metadata": {
    "id": "lzvRjBJk0KV6"
   },
   "source": [
    "Noticed also that the size that the image occupies in your computer's memory is given in bytes (and in kb, Mb).\n"
   ]
  },
  {
   "cell_type": "markdown",
   "metadata": {
    "id": "2z105jBZ0KV9"
   },
   "source": [
    "### Matplotlib"
   ]
  },
  {
   "cell_type": "markdown",
   "metadata": {
    "id": "3OjELIzx0KV-"
   },
   "source": [
    "Next, we can display the image within the notebook.<br>\n",
    "Matplotlib is a plotting library for Python which gives you wide variety of plotting methods. Here, you will learn how to display image with Matplotlib. With Matplotlib, you can also display interactive plots which can zoom in and out of images, save and etc, using the additional line `%matplotlib %notebook`. If you are using Jupyter, all plots are plotted inline (in the notebook) by default.\n",
    "\n",
    "For ease of plotting correctly with matplotlib, it is good to have it converted to RGB ordering (instead of BGR from OpenCV). "
   ]
  },
  {
   "cell_type": "code",
   "execution_count": 7,
   "metadata": {
    "id": "N--Dyv0i0KV-",
    "scrolled": true
   },
   "outputs": [
    {
     "ename": "error",
     "evalue": "OpenCV(4.10.0) C:\\b\\abs_daut97tdpo\\croot\\opencv-suite_1722029138522\\work\\modules\\imgproc\\src\\color.cpp:196: error: (-215:Assertion failed) !_src.empty() in function 'cv::cvtColor'\n",
     "output_type": "error",
     "traceback": [
      "\u001b[1;31m---------------------------------------------------------------------------\u001b[0m",
      "\u001b[1;31merror\u001b[0m                                     Traceback (most recent call last)",
      "Cell \u001b[1;32mIn[7], line 1\u001b[0m\n\u001b[1;32m----> 1\u001b[0m img \u001b[38;5;241m=\u001b[39m cv2\u001b[38;5;241m.\u001b[39mcvtColor(img, cv2\u001b[38;5;241m.\u001b[39mCOLOR_BGR2RGB)\n",
      "\u001b[1;31merror\u001b[0m: OpenCV(4.10.0) C:\\b\\abs_daut97tdpo\\croot\\opencv-suite_1722029138522\\work\\modules\\imgproc\\src\\color.cpp:196: error: (-215:Assertion failed) !_src.empty() in function 'cv::cvtColor'\n"
     ]
    }
   ],
   "source": [
    "img = cv2.cvtColor(img, cv2.COLOR_BGR2RGB)      # is a good idea to convert BGR to RGB as matplotlib uses RGB"
   ]
  },
  {
   "cell_type": "code",
   "execution_count": null,
   "metadata": {
    "id": "hBdtTXqi0KV_"
   },
   "outputs": [
    {
     "data": {
      "application/vnd.jupyter.widget-view+json": {
       "model_id": "af63b122190f44cf8c353412a97e13cf",
       "version_major": 2,
       "version_minor": 0
      },
      "image/png": "[encoded data removed]",
      "text/html": [
       "\n",
       "            <div style=\"display: inline-block;\">\n",
       "                <div class=\"jupyter-widgets widget-label\" style=\"text-align: center;\">\n",
       "                    Figure\n",
       "                </div>\n",
       "                <img src='data:image/png;base64,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' width=640.0/>\n",
       "            </div>\n",
       "        "
      ],
      "text/plain": [
       "Canvas(toolbar=Toolbar(toolitems=[('Home', 'Reset original view', 'home', 'home'), ('Back', 'Back to previous …"
      ]
     },
     "metadata": {},
     "output_type": "display_data"
    }
   ],
   "source": [
    "from matplotlib import pyplot as plt\n",
    "\n",
    "# the 'widget' option enables interactive plots. Note: switch back to the 'inline' option later on. \n",
    "%matplotlib widget   \n",
    "\n",
    "#to disable interactive plot\n",
    "%matplotlib inline \n",
    "\n",
    "plt.imshow(img)\n",
    "plt.xticks([]), plt.yticks([])  # to hide tick values on X and Y axis\n",
    "plt.show()"
   ]
  },
  {
   "cell_type": "code",
   "execution_count": null,
   "metadata": {
    "id": "3bHlOzIVsCn9"
   },
   "outputs": [
    {
     "data": {
      "image/png": "[encoded data removed]",
      "text/plain": [
       "<Figure size 800x600 with 1 Axes>"
      ]
     },
     "metadata": {},
     "output_type": "display_data"
    }
   ],
   "source": [
    "#to disable interactive plot\n",
    "%matplotlib inline \n",
    "plt.imshow(img_gray,cmap='gray')\n",
    "plt.xticks([]), plt.yticks([])  # to hide tick values on X and Y axis\n",
    "plt.show()"
   ]
  },
  {
   "cell_type": "markdown",
   "metadata": {
    "id": "_hcFIdxe0KV_"
   },
   "source": [
    "Have a look at more plotting styles and features from [this documentation](http://matplotlib.org/api/pyplot_api.html). Try out some if you wish.\n",
    "\n",
    "You can also use the functions from OpenCV to display the images where it will open a new window to show the image.<br>\n",
    "Note: OpenCV `imshow()` function is restricted on Google Colab as it will crash your browser."
   ]
  },
  {
   "cell_type": "code",
   "execution_count": null,
   "metadata": {
    "id": "4xo9_4gJ0KV7"
   },
   "outputs": [
    {
     "name": "stderr",
     "output_type": "stream",
     "text": [
      "No such comm: 7d803d06618f4ce0997989b26f47e631\n",
      "No such comm: a5abab6925df43269bc392c1592c89b9\n",
      "No such comm: 54162a23672c4e0c9506457524587b21\n"
     ]
    }
   ],
   "source": [
    "cv2.imshow('Color image',img)\n",
    "cv2.imshow('Grayscale image',img_gray)\n",
    "cv2.waitKey(0)\n",
    "cv2.destroyAllWindows()      # this snippet of code will finish execution when the two windows are closed"
   ]
  },
  {
   "cell_type": "markdown",
   "metadata": {
    "id": "eVD3Gdoo0KV9"
   },
   "source": [
    "The last two lines of code are handling the display of the image in an external (pop-out) window. The last line particularly waits for you to close \n",
    "\n",
    "Now, let's save the grayscale image as a file to disk. After that, check if you can find the newly saved image file."
   ]
  },
  {
   "cell_type": "code",
   "execution_count": null,
   "metadata": {
    "id": "b8uxMcWa0KV9"
   },
   "outputs": [],
   "source": [
    "cv2.imwrite('opencv-gray.png',img_gray)"
   ]
  },
  {
   "cell_type": "markdown",
   "metadata": {
    "id": "NvnfJxh30KV_"
   },
   "source": [
    "### Basic Operations\n"
   ]
  },
  {
   "cell_type": "markdown",
   "metadata": {
    "id": "FRFSvEit0KWA"
   },
   "source": [
    "Next, let's look at some basic image operations that will come in handy later.\n",
    "\n",
    "You can access a pixel value by its row and column coordinates. Since we have already converted the BGR image to a standard RGB image, it returns an array of Red, Green, Blue values (in this order), respectively. For grayscale image, it is straightforward; the corresponding intensity is returned."
   ]
  },
  {
   "cell_type": "code",
   "execution_count": null,
   "metadata": {
    "id": "M9psaB250KWA"
   },
   "outputs": [],
   "source": [
    "# accessing a location at the blue region of the logo\n",
    "px = img[500, 400]\n",
    "print(px)\n",
    "\n",
    "# accessing only the blue pixel at that same location\n",
    "blue = img[500,400,2]\n",
    "print(blue)"
   ]
  },
  {
   "cell_type": "markdown",
   "metadata": {
    "id": "6qwNA-AC0KWA"
   },
   "source": [
    "These pixel intensity values can be modified by assigning a new colour to it. Let's modify that same pixel to white colour, and then, try changing more pixels at one go (using numpy slicing)."
   ]
  },
  {
   "cell_type": "code",
   "execution_count": null,
   "metadata": {
    "id": "FAz3VdLN0KWB"
   },
   "outputs": [],
   "source": [
    "# Change pixel colour to white\n",
    "img[500, 400] = [255, 255, 255]\n",
    "plt.imshow(img)\n",
    "plt.xticks([]), plt.yticks([])  \n",
    "plt.show()      # can you see the white dot? :)"
   ]
  },
  {
   "cell_type": "code",
   "execution_count": null,
   "metadata": {
    "id": "pb685Uxu0KWB"
   },
   "outputs": [],
   "source": [
    "# Change a larger patch of pixels (20x20 in size), all to white\n",
    "patchsize = 20\n",
    "img[500:500+patchsize, 400:400+patchsize] = [255, 255, 255] #change the 255s to different values to see different color patch\n",
    "plt.imshow(img)\n",
    "plt.xticks([]), plt.yticks([])  \n",
    "plt.show() "
   ]
  },
  {
   "cell_type": "markdown",
   "metadata": {
    "id": "lWRHQolc0KWB"
   },
   "source": [
    "Let's check the value of a pixel in that patch area."
   ]
  },
  {
   "cell_type": "code",
   "execution_count": null,
   "metadata": {
    "id": "uCD-tomF0KWC"
   },
   "outputs": [],
   "source": [
    "img[510, 415]"
   ]
  },
  {
   "cell_type": "markdown",
   "metadata": {
    "id": "NJTfbkNh0KWC"
   },
   "source": [
    "There are other Numpy methods that are help to find image properties. \n",
    "\n",
    "The \"shape\" of image is accessed by img.shape *(I personally prefer to call it 'size' of the image, but perhaps they want to be generic when identifying n-dimensional arrays.)* `img.shape` returns a tuple of number of rows, columns and channels (if image is color). Image datatype is obtained by `img.dtype` while the total number of pixels can be accessed by `img.size` \n",
    "\n",
    "What is the actual size of the data (in bytes) that's residing in the memory?"
   ]
  },
  {
   "cell_type": "code",
   "execution_count": null,
   "metadata": {
    "id": "-nW1K75M0KWC"
   },
   "outputs": [],
   "source": [
    "print(img.shape)\n",
    "print(img.size)\n",
    "print(img.dtype)"
   ]
  },
  {
   "cell_type": "markdown",
   "metadata": {
    "id": "TKCXDodT0KWD"
   },
   "source": [
    "Note: `img.dtype` is very important while debugging because a large number of errors in OpenCV-Python code is caused by invalid datatype.\n",
    "\n",
    "Of course, it's easy to just use `whos` to display all these properties (but all variables in memory are shown)."
   ]
  },
  {
   "cell_type": "code",
   "execution_count": null,
   "metadata": {
    "id": "yERnjt7G0KWD"
   },
   "outputs": [],
   "source": [
    "whos"
   ]
  },
  {
   "cell_type": "markdown",
   "metadata": {
    "id": "BkBdKopt0KWD"
   },
   "source": [
    "Before we proceed further, let's put the image displaying codes into a function definition, so that we can just call it with a single function call from hereon"
   ]
  },
  {
   "cell_type": "code",
   "execution_count": null,
   "metadata": {
    "id": "_-1y_ufC0KWE"
   },
   "outputs": [],
   "source": [
    "def showImage(img, titlestr=\"\" ):\n",
    "    if img.ndim == 2:\n",
    "        plt.imshow(img, cmap='gray')\n",
    "    else:\n",
    "        plt.imshow(img)\n",
    "    plt.xticks([]), plt.yticks([])  \n",
    "    plt.title(titlestr)\n",
    "    plt.show() "
   ]
  },
  {
   "cell_type": "markdown",
   "metadata": {
    "id": "o5UXP15h0KWE"
   },
   "source": [
    "**Q1.** Call the function `showImage` to test it."
   ]
  },
  {
   "cell_type": "code",
   "execution_count": null,
   "metadata": {
    "id": "wilZWzE_0KWE"
   },
   "outputs": [],
   "source": [
    "#Enter your code here\n",
    "\n"
   ]
  },
  {
   "cell_type": "markdown",
   "metadata": {
    "id": "obrnqTOq0KWE"
   },
   "source": [
    "### Image ROI\n"
   ]
  },
  {
   "cell_type": "markdown",
   "metadata": {
    "id": "lLTWL_Ur0KWF"
   },
   "source": [
    "A Region-of-Interest (ROI) refers to a certain sub-part or region of the image that you wish to process. Let's try to cut a ROI from the logo image and swap it with another ROI within the image!"
   ]
  },
  {
   "cell_type": "code",
   "execution_count": null,
   "metadata": {
    "id": "X9KDZRR-0KWF"
   },
   "outputs": [],
   "source": [
    "# redROI = img[272:600, 315:600]               # this slicing merely takes a 'view' into the same data, no copies made\n",
    "redROI = img[272:600, 315:600].copy()          # enables deep copy --> make another copy elsewhere in memory\n",
    "img[272:600, 315:600] = img[272:600, 0:285];\n",
    "img[272:600, 0:285] = redROI \n",
    "showImage(img)\n",
    "\n",
    "# Note: running this cell another time will swap back the blue and green 'C's !"
   ]
  },
  {
   "cell_type": "markdown",
   "metadata": {
    "id": "7afGp9pC0KWF"
   },
   "source": [
    "### Splitting/Merging Image Channels\n"
   ]
  },
  {
   "cell_type": "markdown",
   "metadata": {
    "id": "y54-AWLj0KWF"
   },
   "source": [
    "If you need to work separately on the individual R, G, or B channels of a color image, then you need to split the RGB images to single planes. You can also join these individual channels back to a RGB image."
   ]
  },
  {
   "cell_type": "code",
   "execution_count": null,
   "metadata": {
    "id": "dQRP5Buv0KWG"
   },
   "outputs": [],
   "source": [
    "r,g,b = cv2.split(img)              \n",
    "img = cv2.merge((r,g,b))\n",
    "showImage(img)     # verify that image is still the same after joining back\n",
    "\n",
    "# Another function for setting subplot images --> Note: plt.show() only called after all subplots defined\n",
    "def showSubplotImage(img, titlestr=\"\" ):\n",
    "    plt.imshow(img, cmap = 'gray', interpolation = 'bicubic')\n",
    "    plt.xticks([]), plt.yticks([])  \n",
    "    plt.title(titlestr)\n",
    "\n",
    "# Creating 3 subplots (in 1 row) to show the 3 planes for each colour channel\n",
    "fig = plt.subplots(nrows=1, ncols=3)\n",
    "plt.subplot(131), showSubplotImage(r, 'Red plane')\n",
    "plt.subplot(132), showSubplotImage(g, 'Green plane')\n",
    "plt.subplot(133), showSubplotImage(b, 'Blue plane')\n",
    "plt.show()"
   ]
  },
  {
   "cell_type": "markdown",
   "metadata": {
    "id": "lXGFvOk20KWH"
   },
   "source": [
    "More on colors later on!"
   ]
  },
  {
   "cell_type": "markdown",
   "metadata": {
    "id": "3xgKnh_h0KWH"
   },
   "source": [
    "## Arithmetic Operations on Images"
   ]
  },
  {
   "cell_type": "markdown",
   "metadata": {
    "id": "i_0AcgBN0KWI"
   },
   "source": [
    "Image addition in OpenCV is pretty easy. Intuitively, the `+` sign should suffice in performing this operation. Let's try adding two images together..."
   ]
  },
  {
   "cell_type": "code",
   "execution_count": null,
   "metadata": {
    "id": "-fh5-eL70KWI"
   },
   "outputs": [],
   "source": [
    "img_ml = cv2.imread('ml.png')\n",
    "added = img_gray + img_ml"
   ]
  },
  {
   "cell_type": "markdown",
   "metadata": {
    "id": "ZNKjZkKa0KWI"
   },
   "source": [
    "This is not possible because you cannot add two arrays that are of different dimensions! So let's resize one of the two images to follow the other."
   ]
  },
  {
   "cell_type": "code",
   "execution_count": null,
   "metadata": {
    "id": "vQwgur5C0KWI"
   },
   "outputs": [],
   "source": [
    "dim = (344, 397)\n",
    "opencv_resized = cv2.resize(img, dim)\n",
    "opencv_resized.shape"
   ]
  },
  {
   "cell_type": "code",
   "execution_count": null,
   "metadata": {
    "id": "YwItD5xn0KWJ"
   },
   "outputs": [],
   "source": [
    "added = opencv_resized + img_ml\n",
    "showImage(opencv_resized, 'OpenCV')\n",
    "showImage(img_ml, 'ML')\n",
    "showImage(added, 'OpenCV + ML')"
   ]
  },
  {
   "cell_type": "markdown",
   "metadata": {
    "id": "p7erm8w90KWJ"
   },
   "source": [
    "Something not quite right still! The added image does not seemed to be correctly blended. This is because Numpy addition `+` can easily result in an overflow of the `uint8` range. Try this:"
   ]
  },
  {
   "cell_type": "code",
   "execution_count": null,
   "metadata": {
    "id": "_h_DvNB40KWK"
   },
   "outputs": [],
   "source": [
    "x = np.uint8([250])\n",
    "y = np.uint8([255])\n",
    "print(x - y)    # this is 250 + 10 = 260 , when it overflows past 255, the added values start over again..."
   ]
  },
  {
   "cell_type": "code",
   "execution_count": null,
   "metadata": {
    "id": "3yYhoTOh0KWK"
   },
   "outputs": [],
   "source": [
    "added2 = cv2.add(img_ml, opencv_resized)\n",
    "showImage(added2, 'OpenCV + ML image')"
   ]
  },
  {
   "cell_type": "markdown",
   "metadata": {
    "id": "O8dt0BmF0KWK"
   },
   "source": [
    "To have more control over how much each of the two images can be blended together, try the function `cv2.addWeighted`."
   ]
  },
  {
   "cell_type": "code",
   "execution_count": null,
   "metadata": {
    "id": "flVrEF370KWL"
   },
   "outputs": [],
   "source": [
    "blended = cv2.addWeighted(img_ml,0.7,opencv_resized,0.3,0)     # 70% of ML image, 30% of OpenCV image\n",
    "showImage(blended, 'Blended 70%-30%')"
   ]
  },
  {
   "cell_type": "markdown",
   "metadata": {
    "id": "OgXLD-Js0KWL"
   },
   "source": [
    "**Q2**. Create a GIF animation by creating a series of images that capture a  smooth transition between two blended images. You may use the image blending operation done earlier with the weighted addition function `cv2.addWeighted`.\n",
    "\n",
    "The `imageio` package (available in Anaconda) has this nifty feature that allows us to save a list of images into a GIF file. Some of these utility code are given."
   ]
  },
  {
   "cell_type": "code",
   "execution_count": null,
   "metadata": {
    "id": "i9VTG90G0KWL"
   },
   "outputs": [],
   "source": [
    "import os\n",
    "import imageio\n",
    "\n",
    "# folder containing the images needed\n",
    "gif_dir = \"gif_folder/\"\n",
    "\n",
    "# creates the folder if it does not exist\n",
    "if not os.path.exists(gif_dir):  \n",
    "    os.makedirs(gif_dir)\n",
    "\n",
    "# add your code here in a loop ####################\n",
    "for i in range(11):\n",
    "    # add code\n",
    "    \n",
    "    \n",
    "# to generate the GIF from a series of images in a folder\n",
    "images = []\n",
    "for subdir, dirs, files in os.walk(gif_dir):\n",
    "    for file in files:\n",
    "        file_path = os.path.join(subdir, file)\n",
    "        if file_path.endswith(\".png\"):\n",
    "            images.append(imageio.v2.imread(file_path))\n",
    "imageio.mimsave('movie.gif', images)"
   ]
  },
  {
   "cell_type": "markdown",
   "metadata": {
    "id": "g5Ikaui10KWM"
   },
   "source": [
    "How about subtracting two images? Are there any negative values after doing this?\n",
    "\n",
    "What if we find the absolute difference between two images instead?"
   ]
  },
  {
   "cell_type": "code",
   "execution_count": null,
   "metadata": {
    "id": "rq1eGDzz0KWM"
   },
   "outputs": [],
   "source": [
    "subtracted = cv2.subtract(img_ml, opencv_resized)       # which subtracted which?\n",
    "showImage (subtracted, 'Which subtracted which?')\n"
   ]
  },
  {
   "cell_type": "code",
   "execution_count": null,
   "metadata": {
    "id": "pXZYNb200KWM"
   },
   "outputs": [],
   "source": [
    "absdifferenced = cv2.absdiff(img_ml, opencv_resized)\n",
    "showImage (absdifferenced, 'Abs Diff')"
   ]
  },
  {
   "cell_type": "markdown",
   "metadata": {
    "id": "ql25Nrak0KWN"
   },
   "source": [
    "## Using Spyder"
   ]
  },
  {
   "cell_type": "markdown",
   "metadata": {
    "id": "ckUuPIWC0KWN"
   },
   "source": [
    "Ultimately, some people may find using Jupyter notebooks a hassle when they need to re-run big portions of code (including some earlier code as well), but of course some may not if they know how to utilize nifty options from the \"Cell\" menu item. If you do, you can try using Spyder, which is a typical IDE that gives you better control in writing programs.\n",
    "\n",
    "**Q3.** Just to be familiar, transfer some code (eg. the animated gif program) from this lab tutorial to Spyder (create new .py file, run), and get it working. Writing codes over there gives you a better view of what code can be further modularized into functions. If you ever need to test out short snippets of code over there, the iPython console is visible there as well."
   ]
  },
  {
   "cell_type": "code",
   "execution_count": null,
   "metadata": {
    "id": "3wzxjNMJi8tk"
   },
   "outputs": [],
   "source": [
    "\n",
    "\n",
    "\n",
    "\n",
    "\n",
    "\n",
    "\n"
   ]
  },
  {
   "cell_type": "markdown",
   "metadata": {
    "id": "NT9O3Kpi0KWN"
   },
   "source": [
    "## Trying Pillow & scikit-image packages\n",
    "\n",
    "Our practicals will be mostly focused on the OpenCV library. Feel free to try out some hands-on tutorial on the other two libraries: [Pillow](https://pillow.readthedocs.io/en/latest/handbook/tutorial.html) and [`scikit-image`](http://www.scipy-lectures.org/packages/scikit-image/index.html#introduction-and-concepts).\n",
    "\n",
    "Most of these basic operations covered in this module are available on all three libraries. Perhaps the comprehensiveness of the OpenCV library would be most telling in the advanced topics."
   ]
  },
  {
   "cell_type": "markdown",
   "metadata": {
    "id": "oSnJxvK30KWN"
   },
   "source": [
    "## Additional Exercises\n"
   ]
  },
  {
   "cell_type": "markdown",
   "metadata": {
    "id": "PL8Wp6840KWO"
   },
   "source": [
    "**Q**. Write a handy function that can show multiple images in a single figure using the `subplot` function, given the number of images. Decide what other parameters may be necessary."
   ]
  },
  {
   "cell_type": "code",
   "execution_count": null,
   "metadata": {
    "id": "IndVgkJN0KWO"
   },
   "outputs": [],
   "source": []
  }
 ],
 "metadata": {
  "anaconda-cloud": {},
  "colab": {
   "collapsed_sections": [],
   "provenance": []
  },
  "kernelspec": {
   "display_name": "CDS6334",
   "language": "python",
   "name": "python3"
  },
  "language_info": {
   "codemirror_mode": {
    "name": "ipython",
    "version": 3
   },
   "file_extension": ".py",
   "mimetype": "text/x-python",
   "name": "python",
   "nbconvert_exporter": "python",
   "pygments_lexer": "ipython3",
   "version": "3.12.7"
  }
 },
 "nbformat": 4,
 "nbformat_minor": 4
}
