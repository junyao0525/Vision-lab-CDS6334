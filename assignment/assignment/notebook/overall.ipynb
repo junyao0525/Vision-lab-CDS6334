{
 "cells": [
  {
   "cell_type": "code",
   "execution_count": null,
   "metadata": {},
   "outputs": [],
   "source": [
    "import cv2\n",
    "import numpy as np\n",
    "import matplotlib.pyplot as plt\n",
    "from os import listdir\n",
    "from os.path import isfile, join, splitext"
   ]
  },
  {
   "cell_type": "code",
   "execution_count": null,
   "metadata": {},
   "outputs": [],
   "source": [
    "from os import listdir\n",
    "\n",
    "\n",
    "input_dir = '../dataset/test'\n",
    "output_dir = '../dataset/output'\n",
    "gt_dir = '../dataset/groundtruth'\n",
    "numImages = 80\n",
    "\n",
    "onlyfiles = [f for f in listdir(input_dir) if isfile(join(input_dir, f))]\n",
    "files = onlyfiles[0:numImages]"
   ]
  },
  {
   "cell_type": "code",
   "execution_count": null,
   "metadata": {},
   "outputs": [],
   "source": [
    "def showSubplotImage(img, titlestr=\"\"):\n",
    "    plt.imshow(img, cmap='gray', interpolation='bicubic', vmin=0, vmax=255)\n",
    "    plt.xticks([]), plt.yticks([])\n",
    "    plt.title(titlestr)\n",
    "    plt.show()\n",
    "\n",
    "def setSubplotImage(img, titlestr=\"\"):\n",
    "    n = len(img)  # Number of images\n",
    "    \n",
    "    if n <= 6:\n",
    "        # If 6 or fewer images, show in a single row\n",
    "        cols = n\n",
    "        rows = 1\n",
    "    else:\n",
    "        # Otherwise, calculate rows and columns\n",
    "        cols = int(np.ceil(np.sqrt(n)))\n",
    "        rows = int(np.ceil(n / cols))\n",
    "\n",
    "    # Create subplots\n",
    "    fig, axs = plt.subplots(rows, cols, figsize=(15, 15))\n",
    "    axs = axs.ravel()  # Flatten axes for easy indexing\n",
    "\n",
    "    for i in range(n):\n",
    "        axs[i].imshow(img[i], cmap='gray', vmin=0, vmax=255)\n",
    "        axs[i].set_title(titlestr[i] if i < len(titlestr) else \"\")\n",
    "        axs[i].axis('off')  # Turn off axes\n",
    "\n",
    "    # Hide any unused subplots\n",
    "    for i in range(n, len(axs)):\n",
    "        axs[i].axis('off')\n",
    "\n",
    "    plt.tight_layout()\n",
    "    plt.show()\n"
   ]
  }
 ],
 "metadata": {
  "kernelspec": {
   "display_name": "CDS6334",
   "language": "python",
   "name": "python3"
  },
  "language_info": {
   "name": "python",
   "version": "3.12.7"
  }
 },
 "nbformat": 4,
 "nbformat_minor": 2
}
